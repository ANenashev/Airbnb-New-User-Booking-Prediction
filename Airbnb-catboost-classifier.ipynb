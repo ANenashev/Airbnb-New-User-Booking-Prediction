{
 "cells": [
  {
   "cell_type": "code",
   "execution_count": 1,
   "metadata": {},
   "outputs": [],
   "source": [
    "import numpy as np\n",
    "import pandas as pd\n",
    "import matplotlib.pyplot as plt\n",
    "from datetime import timedelta, date\n",
    "\n",
    "%matplotlib inline"
   ]
  },
  {
   "cell_type": "code",
   "execution_count": 2,
   "metadata": {},
   "outputs": [],
   "source": [
    "import seaborn as sns"
   ]
  },
  {
   "cell_type": "code",
   "execution_count": 55,
   "metadata": {},
   "outputs": [],
   "source": [
    "import warnings\n",
    "warnings.filterwarnings(module='sklearn*', action='ignore', category=DeprecationWarning)"
   ]
  },
  {
   "cell_type": "code",
   "execution_count": 4,
   "metadata": {},
   "outputs": [],
   "source": [
    "sessions = pd.read_csv('./Data/sessions.csv')\n",
    "train_users = pd.read_csv('./Data/train_users_2.csv')\n",
    "test_users = pd.read_csv('./Data/test_users.csv')"
   ]
  },
  {
   "cell_type": "code",
   "execution_count": 5,
   "metadata": {},
   "outputs": [
    {
     "name": "stdout",
     "output_type": "stream",
     "text": [
      "Train objects:  213451\n",
      "Test objects:  62096\n"
     ]
    }
   ],
   "source": [
    "print('Train objects: ', train_users.shape[0])\n",
    "print('Test objects: ', test_users.shape[0])"
   ]
  },
  {
   "cell_type": "code",
   "execution_count": 6,
   "metadata": {},
   "outputs": [
    {
     "data": {
      "text/html": [
       "<div>\n",
       "<style scoped>\n",
       "    .dataframe tbody tr th:only-of-type {\n",
       "        vertical-align: middle;\n",
       "    }\n",
       "\n",
       "    .dataframe tbody tr th {\n",
       "        vertical-align: top;\n",
       "    }\n",
       "\n",
       "    .dataframe thead th {\n",
       "        text-align: right;\n",
       "    }\n",
       "</style>\n",
       "<table border=\"1\" class=\"dataframe\">\n",
       "  <thead>\n",
       "    <tr style=\"text-align: right;\">\n",
       "      <th></th>\n",
       "      <th>id</th>\n",
       "      <th>date_account_created</th>\n",
       "      <th>timestamp_first_active</th>\n",
       "      <th>date_first_booking</th>\n",
       "      <th>gender</th>\n",
       "      <th>age</th>\n",
       "      <th>signup_method</th>\n",
       "      <th>signup_flow</th>\n",
       "      <th>language</th>\n",
       "      <th>affiliate_channel</th>\n",
       "      <th>affiliate_provider</th>\n",
       "      <th>first_affiliate_tracked</th>\n",
       "      <th>signup_app</th>\n",
       "      <th>first_device_type</th>\n",
       "      <th>first_browser</th>\n",
       "      <th>country_destination</th>\n",
       "    </tr>\n",
       "  </thead>\n",
       "  <tbody>\n",
       "    <tr>\n",
       "      <th>0</th>\n",
       "      <td>gxn3p5htnn</td>\n",
       "      <td>2010-06-28</td>\n",
       "      <td>20090319043255</td>\n",
       "      <td>NaN</td>\n",
       "      <td>-unknown-</td>\n",
       "      <td>NaN</td>\n",
       "      <td>facebook</td>\n",
       "      <td>0</td>\n",
       "      <td>en</td>\n",
       "      <td>direct</td>\n",
       "      <td>direct</td>\n",
       "      <td>untracked</td>\n",
       "      <td>Web</td>\n",
       "      <td>Mac Desktop</td>\n",
       "      <td>Chrome</td>\n",
       "      <td>NDF</td>\n",
       "    </tr>\n",
       "    <tr>\n",
       "      <th>1</th>\n",
       "      <td>820tgsjxq7</td>\n",
       "      <td>2011-05-25</td>\n",
       "      <td>20090523174809</td>\n",
       "      <td>NaN</td>\n",
       "      <td>MALE</td>\n",
       "      <td>38.0</td>\n",
       "      <td>facebook</td>\n",
       "      <td>0</td>\n",
       "      <td>en</td>\n",
       "      <td>seo</td>\n",
       "      <td>google</td>\n",
       "      <td>untracked</td>\n",
       "      <td>Web</td>\n",
       "      <td>Mac Desktop</td>\n",
       "      <td>Chrome</td>\n",
       "      <td>NDF</td>\n",
       "    </tr>\n",
       "    <tr>\n",
       "      <th>2</th>\n",
       "      <td>4ft3gnwmtx</td>\n",
       "      <td>2010-09-28</td>\n",
       "      <td>20090609231247</td>\n",
       "      <td>2010-08-02</td>\n",
       "      <td>FEMALE</td>\n",
       "      <td>56.0</td>\n",
       "      <td>basic</td>\n",
       "      <td>3</td>\n",
       "      <td>en</td>\n",
       "      <td>direct</td>\n",
       "      <td>direct</td>\n",
       "      <td>untracked</td>\n",
       "      <td>Web</td>\n",
       "      <td>Windows Desktop</td>\n",
       "      <td>IE</td>\n",
       "      <td>US</td>\n",
       "    </tr>\n",
       "    <tr>\n",
       "      <th>3</th>\n",
       "      <td>bjjt8pjhuk</td>\n",
       "      <td>2011-12-05</td>\n",
       "      <td>20091031060129</td>\n",
       "      <td>2012-09-08</td>\n",
       "      <td>FEMALE</td>\n",
       "      <td>42.0</td>\n",
       "      <td>facebook</td>\n",
       "      <td>0</td>\n",
       "      <td>en</td>\n",
       "      <td>direct</td>\n",
       "      <td>direct</td>\n",
       "      <td>untracked</td>\n",
       "      <td>Web</td>\n",
       "      <td>Mac Desktop</td>\n",
       "      <td>Firefox</td>\n",
       "      <td>other</td>\n",
       "    </tr>\n",
       "    <tr>\n",
       "      <th>4</th>\n",
       "      <td>87mebub9p4</td>\n",
       "      <td>2010-09-14</td>\n",
       "      <td>20091208061105</td>\n",
       "      <td>2010-02-18</td>\n",
       "      <td>-unknown-</td>\n",
       "      <td>41.0</td>\n",
       "      <td>basic</td>\n",
       "      <td>0</td>\n",
       "      <td>en</td>\n",
       "      <td>direct</td>\n",
       "      <td>direct</td>\n",
       "      <td>untracked</td>\n",
       "      <td>Web</td>\n",
       "      <td>Mac Desktop</td>\n",
       "      <td>Chrome</td>\n",
       "      <td>US</td>\n",
       "    </tr>\n",
       "  </tbody>\n",
       "</table>\n",
       "</div>"
      ],
      "text/plain": [
       "           id date_account_created  timestamp_first_active date_first_booking  \\\n",
       "0  gxn3p5htnn           2010-06-28          20090319043255                NaN   \n",
       "1  820tgsjxq7           2011-05-25          20090523174809                NaN   \n",
       "2  4ft3gnwmtx           2010-09-28          20090609231247         2010-08-02   \n",
       "3  bjjt8pjhuk           2011-12-05          20091031060129         2012-09-08   \n",
       "4  87mebub9p4           2010-09-14          20091208061105         2010-02-18   \n",
       "\n",
       "      gender   age signup_method  signup_flow language affiliate_channel  \\\n",
       "0  -unknown-   NaN      facebook            0       en            direct   \n",
       "1       MALE  38.0      facebook            0       en               seo   \n",
       "2     FEMALE  56.0         basic            3       en            direct   \n",
       "3     FEMALE  42.0      facebook            0       en            direct   \n",
       "4  -unknown-  41.0         basic            0       en            direct   \n",
       "\n",
       "  affiliate_provider first_affiliate_tracked signup_app first_device_type  \\\n",
       "0             direct               untracked        Web       Mac Desktop   \n",
       "1             google               untracked        Web       Mac Desktop   \n",
       "2             direct               untracked        Web   Windows Desktop   \n",
       "3             direct               untracked        Web       Mac Desktop   \n",
       "4             direct               untracked        Web       Mac Desktop   \n",
       "\n",
       "  first_browser country_destination  \n",
       "0        Chrome                 NDF  \n",
       "1        Chrome                 NDF  \n",
       "2            IE                  US  \n",
       "3       Firefox               other  \n",
       "4        Chrome                  US  "
      ]
     },
     "execution_count": 6,
     "metadata": {},
     "output_type": "execute_result"
    }
   ],
   "source": [
    "train_users.head()"
   ]
  },
  {
   "cell_type": "markdown",
   "metadata": {},
   "source": [
    "Колонка 'date_first_booking' всегда будет пуста на новых объектах, поэтому при обучении её нужно исключить из датасета."
   ]
  },
  {
   "cell_type": "code",
   "execution_count": 7,
   "metadata": {},
   "outputs": [
    {
     "data": {
      "text/plain": [
       "NDF      124543\n",
       "US        62376\n",
       "other     10094\n",
       "FR         5023\n",
       "IT         2835\n",
       "GB         2324\n",
       "ES         2249\n",
       "CA         1428\n",
       "DE         1061\n",
       "NL          762\n",
       "AU          539\n",
       "PT          217\n",
       "Name: country_destination, dtype: int64"
      ]
     },
     "execution_count": 7,
     "metadata": {},
     "output_type": "execute_result"
    },
    {
     "data": {
      "image/png": "[encoded data removed]",
      "text/plain": [
       "<matplotlib.figure.Figure at 0x12fb0cd9a90>"
      ]
     },
     "metadata": {},
     "output_type": "display_data"
    }
   ],
   "source": [
    "target = train_users['country_destination']\n",
    "target.value_counts().plot('bar')\n",
    "target.value_counts()"
   ]
  },
  {
   "cell_type": "markdown",
   "metadata": {},
   "source": [
    "Большая часть пользователей не производила бронирование. Из остальных абсолютное большинство бронировали жилье в США. Выборка несбалансирована. Это нужно будет учитывать при построении модели."
   ]
  },
  {
   "cell_type": "code",
   "execution_count": 8,
   "metadata": {},
   "outputs": [
    {
     "data": {
      "text/plain": [
       "0.5834734904029496"
      ]
     },
     "execution_count": 8,
     "metadata": {},
     "output_type": "execute_result"
    }
   ],
   "source": [
    "target.value_counts()['NDF']/target.shape[0]"
   ]
  },
  {
   "cell_type": "markdown",
   "metadata": {},
   "source": [
    "58% новых пользователей не совершают бронирование"
   ]
  },
  {
   "cell_type": "markdown",
   "metadata": {},
   "source": [
    "## Пропуски в данных"
   ]
  },
  {
   "cell_type": "code",
   "execution_count": 9,
   "metadata": {},
   "outputs": [
    {
     "data": {
      "text/plain": [
       "id                              0\n",
       "date_account_created            0\n",
       "timestamp_first_active          0\n",
       "date_first_booking         124543\n",
       "gender                          0\n",
       "age                         87990\n",
       "signup_method                   0\n",
       "signup_flow                     0\n",
       "language                        0\n",
       "affiliate_channel               0\n",
       "affiliate_provider              0\n",
       "first_affiliate_tracked      6065\n",
       "signup_app                      0\n",
       "first_device_type               0\n",
       "first_browser                   0\n",
       "country_destination             0\n",
       "dtype: int64"
      ]
     },
     "execution_count": 9,
     "metadata": {},
     "output_type": "execute_result"
    }
   ],
   "source": [
    "train_users.isnull().sum()"
   ]
  },
  {
   "cell_type": "markdown",
   "metadata": {},
   "source": [
    "Видим много пропусков в колонке 'age'. Возможно, пользователи, не указавшие возраст при регистрации, не собираются бронировать жилье. Проверим эту гипотезу."
   ]
  },
  {
   "cell_type": "markdown",
   "metadata": {},
   "source": [
    "## Возраст"
   ]
  },
  {
   "cell_type": "code",
   "execution_count": 10,
   "metadata": {},
   "outputs": [],
   "source": [
    "users_without_age = train_users.loc[train_users['age'].isnull()]"
   ]
  },
  {
   "cell_type": "code",
   "execution_count": 11,
   "metadata": {},
   "outputs": [
    {
     "data": {
      "text/plain": [
       "NDF      67614\n",
       "US       13773\n",
       "other     2518\n",
       "FR        1310\n",
       "IT         799\n",
       "GB         550\n",
       "ES         543\n",
       "CA         351\n",
       "DE         210\n",
       "NL         160\n",
       "AU         103\n",
       "PT          59\n",
       "Name: country_destination, dtype: int64"
      ]
     },
     "execution_count": 11,
     "metadata": {},
     "output_type": "execute_result"
    }
   ],
   "source": [
    "users_without_age['country_destination'].value_counts()"
   ]
  },
  {
   "cell_type": "code",
   "execution_count": 12,
   "metadata": {},
   "outputs": [
    {
     "data": {
      "text/plain": [
       "0.7684282304807365"
      ]
     },
     "execution_count": 12,
     "metadata": {},
     "output_type": "execute_result"
    }
   ],
   "source": [
    "users_without_age['country_destination'].value_counts()['NDF']/users_without_age.shape[0]"
   ]
  },
  {
   "cell_type": "markdown",
   "metadata": {},
   "source": [
    "77% пользователей, не указавших возраст, не совершают первое бронирование, что превышает данный показатель по всей выборке."
   ]
  },
  {
   "cell_type": "markdown",
   "metadata": {},
   "source": [
    "Рассмотрим признак 'age' подробнее."
   ]
  },
  {
   "cell_type": "code",
   "execution_count": 13,
   "metadata": {},
   "outputs": [
    {
     "data": {
      "image/png": "[encoded data removed]",
      "text/plain": [
       "<matplotlib.figure.Figure at 0x12fb0dae7b8>"
      ]
     },
     "metadata": {},
     "output_type": "display_data"
    }
   ],
   "source": [
    "train_users['age'].value_counts().sort_index().plot('bar', title='age', figsize=(16,8));"
   ]
  },
  {
   "cell_type": "markdown",
   "metadata": {},
   "source": [
    "В данных присутствуют люди с возрастом меньше 15 лет и больше 100 лет. Есть всплески количества людей с возрастом 105 и 110 лет, а также значения от 1915 до 2015, похожие на год рождения или текущий год (датасет был обновлен в 2015 году). Предположим, что в некоторых случаях люди ошибочно указывали год рождения вместо возраста. Посмотрим, как люди с аномальным возрастом бронируют недвижимость:"
   ]
  },
  {
   "cell_type": "code",
   "execution_count": 14,
   "metadata": {},
   "outputs": [
    {
     "name": "stdout",
     "output_type": "stream",
     "text": [
      "В выборке 2402 пользователей с аномальным возрастом.\n"
     ]
    },
    {
     "data": {
      "text/plain": [
       "NDF      1067\n",
       "US        933\n",
       "other     164\n",
       "FR         62\n",
       "IT         48\n",
       "GB         37\n",
       "ES         30\n",
       "CA         22\n",
       "DE         17\n",
       "NL         12\n",
       "AU          8\n",
       "PT          2\n",
       "Name: country_destination, dtype: int64"
      ]
     },
     "execution_count": 14,
     "metadata": {},
     "output_type": "execute_result"
    }
   ],
   "source": [
    "users_with_abnormal_age = train_users.loc[(train_users['age'] < 15) | (train_users['age'] > 100)]\n",
    "print('В выборке {0} пользователей с аномальным возрастом.'.format(users_with_abnormal_age['country_destination'].shape[0]))\n",
    "users_with_abnormal_age['country_destination'].value_counts()"
   ]
  },
  {
   "cell_type": "markdown",
   "metadata": {},
   "source": [
    "Хотя таких пользователей всего 2402, больше половины из них делает бронирование. Зададим возрастное ограничение от 14 до 100 лет. Предположим, что значения от 1900 - годы рождения. Закодируем возрасты не из заданного диапазона специальными значениями:\n",
    "- 0 для nan\n",
    "- 5 для возраста меньше 14 лет\n",
    "- 110 для возраста больше 100 лет"
   ]
  },
  {
   "cell_type": "code",
   "execution_count": 15,
   "metadata": {},
   "outputs": [],
   "source": [
    "def process_age(df):\n",
    "    ages = df['age'].values\n",
    "    df['age'] = np.where(ages > 1915, 2015 - ages, ages)\n",
    "    ages = df['age'].values\n",
    "    df['age'] = np.where(ages < 14, 5, ages)\n",
    "    ages = df['age'].values\n",
    "    df['age'] = np.where(ages > 100, 110, ages)    \n",
    "    df['age'].fillna(0, inplace=True)"
   ]
  },
  {
   "cell_type": "code",
   "execution_count": 16,
   "metadata": {},
   "outputs": [
    {
     "name": "stderr",
     "output_type": "stream",
     "text": [
      "C:\\ProgramData\\Anaconda3\\lib\\site-packages\\ipykernel_launcher.py:3: RuntimeWarning: invalid value encountered in greater\n",
      "  This is separate from the ipykernel package so we can avoid doing imports until\n",
      "C:\\ProgramData\\Anaconda3\\lib\\site-packages\\ipykernel_launcher.py:5: RuntimeWarning: invalid value encountered in less\n",
      "  \"\"\"\n",
      "C:\\ProgramData\\Anaconda3\\lib\\site-packages\\ipykernel_launcher.py:7: RuntimeWarning: invalid value encountered in greater\n",
      "  import sys\n"
     ]
    }
   ],
   "source": [
    "users_df = train_users.copy()\n",
    "process_age(users_df);"
   ]
  },
  {
   "cell_type": "code",
   "execution_count": 17,
   "metadata": {},
   "outputs": [
    {
     "data": {
      "image/png": "[encoded data removed]",
      "text/plain": [
       "<matplotlib.figure.Figure at 0x12fb2918a58>"
      ]
     },
     "metadata": {},
     "output_type": "display_data"
    }
   ],
   "source": [
    "sns.distplot(users_df.loc[users_df['age'] > 0, 'age']);"
   ]
  },
  {
   "cell_type": "markdown",
   "metadata": {},
   "source": [
    "Обычный возраст пользователей от 26 до 40 лет. Можно разбить пользователей на возрастные группы и добавить этот признак в модель."
   ]
  },
  {
   "cell_type": "markdown",
   "metadata": {},
   "source": [
    "## Пол"
   ]
  },
  {
   "cell_type": "code",
   "execution_count": 18,
   "metadata": {},
   "outputs": [
    {
     "data": {
      "text/plain": [
       "-unknown-    95688\n",
       "FEMALE       63041\n",
       "MALE         54440\n",
       "OTHER          282\n",
       "Name: gender, dtype: int64"
      ]
     },
     "execution_count": 18,
     "metadata": {},
     "output_type": "execute_result"
    }
   ],
   "source": [
    "users_df['gender'].value_counts(dropna=False)"
   ]
  },
  {
   "cell_type": "code",
   "execution_count": 19,
   "metadata": {},
   "outputs": [
    {
     "data": {
      "text/plain": [
       "0.696743583312432"
      ]
     },
     "execution_count": 19,
     "metadata": {},
     "output_type": "execute_result"
    }
   ],
   "source": [
    "users_without_gender = users_df[users_df['gender'] == '-unknown-']\n",
    "users_without_gender['country_destination'].value_counts()[0]/users_without_gender.shape[0]"
   ]
  },
  {
   "cell_type": "code",
   "execution_count": 20,
   "metadata": {},
   "outputs": [
    {
     "data": {
      "text/plain": [
       "0.4914361896351146"
      ]
     },
     "execution_count": 20,
     "metadata": {},
     "output_type": "execute_result"
    }
   ],
   "source": [
    "users_with_gender = users_df.drop(users_without_gender.index.values)\n",
    "users_with_gender['country_destination'].value_counts()[0]/users_with_gender.shape[0]"
   ]
  },
  {
   "cell_type": "markdown",
   "metadata": {},
   "source": [
    "Почти 70% пользователей, не указавших пол не делают заказ. Среди указавших пол пользователей тех, кто не делает заказ 50%."
   ]
  },
  {
   "cell_type": "code",
   "execution_count": 21,
   "metadata": {},
   "outputs": [
    {
     "data": {
      "image/png": "[encoded data removed]",
      "text/plain": [
       "<matplotlib.figure.Figure at 0x12fb2802e80>"
      ]
     },
     "metadata": {},
     "output_type": "display_data"
    }
   ],
   "source": [
    "users_without_gender['country_destination'].value_counts().plot(kind='bar', label = 'Unknown', position=0, figsize=(16,8), width = 0.4, color='#4DD3C9')\n",
    "users_with_gender.loc[users_with_gender['gender'] == 'FEMALE', 'country_destination'].value_counts().plot(kind='bar', label='Female', position=1, figsize=(16,8), width = 0.4, color='#FFA35D')\n",
    "users_with_gender.loc[users_with_gender['gender'] == 'MALE', 'country_destination'].value_counts().plot(kind='bar', label='Male', position=2, figsize=(16,8), width = 0.4, color='#483D8B')\n",
    "\n",
    "plt.legend()\n",
    "plt.show()"
   ]
  },
  {
   "cell_type": "code",
   "execution_count": 22,
   "metadata": {},
   "outputs": [
    {
     "data": {
      "image/png": "[encoded data removed]",
      "text/plain": [
       "<matplotlib.figure.Figure at 0x12fb29f3b00>"
      ]
     },
     "metadata": {},
     "output_type": "display_data"
    }
   ],
   "source": [
    "users_with_gender.loc[users_with_gender['gender'] == 'FEMALE', 'country_destination'].value_counts().plot(kind='bar', label='Female', position=0, figsize=(16,8), width = 0.4, color='#FFA35D')\n",
    "users_with_gender.loc[users_with_gender['gender'] == 'MALE', 'country_destination'].value_counts().plot(kind='bar', label='Male', position=1, figsize=(16,8), width = 0.4, color='#483D8B')\n",
    "\n",
    "plt.legend()\n",
    "plt.show()"
   ]
  },
  {
   "cell_type": "markdown",
   "metadata": {},
   "source": [
    "Мужчины и женщины выбирают страны для посещения в одинаковых пропорциях."
   ]
  },
  {
   "cell_type": "markdown",
   "metadata": {},
   "source": [
    "## Категориальные признаки"
   ]
  },
  {
   "cell_type": "markdown",
   "metadata": {},
   "source": [
    "Посмотрим, как распределена целевая переменная в каждой категории категориальных признаков."
   ]
  },
  {
   "cell_type": "code",
   "execution_count": 23,
   "metadata": {},
   "outputs": [],
   "source": [
    "cat_features = ['gender', 'signup_method', 'signup_flow', 'affiliate_channel', 'affiliate_provider',\n",
    "                'first_affiliate_tracked', 'signup_app', 'first_device_type', 'first_browser', 'language']"
   ]
  },
  {
   "cell_type": "code",
   "execution_count": 24,
   "metadata": {},
   "outputs": [
    {
     "data": {
      "image/png": "[encoded data removed]",
      "text/plain": [
       "<matplotlib.figure.Figure at 0x12fb28d8a90>"
      ]
     },
     "metadata": {},
     "output_type": "display_data"
    },
    {
     "data": {
      "image/png": "[encoded data removed]",
      "text/plain": [
       "<matplotlib.figure.Figure at 0x12fb2836668>"
      ]
     },
     "metadata": {},
     "output_type": "display_data"
    }
   ],
   "source": [
    "bar_order = ['NDF','US','other','FR','IT','GB','ES','CA','DE','NL','AU','PT']\n",
    "fig, ax1 = plt.subplots(nrows=2, ncols=4, figsize=(16, 8))\n",
    "\n",
    "for i, feature in enumerate(cat_features[:8]):\n",
    "    ctab = pd.crosstab([users_df[feature]], users_df['country_destination']).apply(lambda x: x/x.sum(), axis=1)\n",
    "    ctab[bar_order].plot(kind='bar', stacked=True, ax=ax1.reshape(-1)[i],legend=False, colormap='terrain')\n",
    "plt.tight_layout()\n",
    "fig, ax2 = plt.subplots(nrows=2, ncols=1, figsize=(16, 8))\n",
    "for i, feature in enumerate(cat_features[8:]):\n",
    "    ctab = pd.crosstab([users_df[feature]], users_df['country_destination']).apply(lambda x: x/x.sum(), axis=1)\n",
    "    ctab[bar_order].plot(kind='bar', stacked=True, ax=ax2.reshape(-1)[i],legend=False, colormap='terrain')\n",
    "plt.tight_layout()"
   ]
  },
  {
   "cell_type": "markdown",
   "metadata": {},
   "source": [
    "- Люди со значением пола 'other' бронируют чаще остальных полов.\n",
    "- Те, кто авторизуется через google бронируют меньше остальных.\n",
    "- Люди с 'affilated_channel' = 'content' авторизуются реже остальных.\n",
    "- Люди с 'signgup_flow' = 3 бронируют чаще.\n",
    "- Люди с 'affilated_provider' 'craiglist' и 'direct' бронируют чаще.\n",
    "- Люди чаще всего бронируют из web-приложения и реже всего - из android-приложения.\n",
    "- Больше всего бронирований производится с Mac Desktop и меньше всего - с Android Phone, что сходится с пердыдущим наблюдением.\n",
    "- В категории first_browser довольно много значений. Возможно, стоит оставить несколько самых популярных браузеров, а остальные выделить в отдельную категорию.\n",
    "- Люди из некоторых языковых групп путешествуют более разнообразно."
   ]
  },
  {
   "cell_type": "code",
   "execution_count": null,
   "metadata": {},
   "outputs": [],
   "source": []
  },
  {
   "cell_type": "code",
   "execution_count": null,
   "metadata": {},
   "outputs": [],
   "source": []
  },
  {
   "cell_type": "code",
   "execution_count": null,
   "metadata": {},
   "outputs": [],
   "source": []
  },
  {
   "cell_type": "code",
   "execution_count": null,
   "metadata": {},
   "outputs": [],
   "source": []
  },
  {
   "cell_type": "code",
   "execution_count": null,
   "metadata": {},
   "outputs": [],
   "source": []
  },
  {
   "cell_type": "markdown",
   "metadata": {},
   "source": [
    "## Базовая модель"
   ]
  },
  {
   "cell_type": "markdown",
   "metadata": {},
   "source": [
    "Обучим первую модель на числовых и категориальных признаках из таблицы train_users. Исключим все временные признаки, id. Пропуски в колонке first_affiliate_tracked заменим текстом 'None'. В качестве метрики будем использовать accuracy."
   ]
  },
  {
   "cell_type": "code",
   "execution_count": 25,
   "metadata": {},
   "outputs": [],
   "source": [
    "# используем catboost, поскольку большая часть признаков - категориальные.\n",
    "from catboost import CatBoostClassifier, Pool\n",
    "from sklearn.model_selection import train_test_split\n",
    "from sklearn.preprocessing.label import LabelEncoder"
   ]
  },
  {
   "cell_type": "code",
   "execution_count": 26,
   "metadata": {},
   "outputs": [],
   "source": [
    "def process_nans(df):\n",
    "    df['first_affiliate_tracked'].fillna('None', inplace=True)"
   ]
  },
  {
   "cell_type": "code",
   "execution_count": 27,
   "metadata": {},
   "outputs": [
    {
     "data": {
      "text/plain": [
       "LabelEncoder()"
      ]
     },
     "execution_count": 27,
     "metadata": {},
     "output_type": "execute_result"
    }
   ],
   "source": [
    "# закодируем метки классов целыми числами для однозначного соответствия\n",
    "le = LabelEncoder()\n",
    "le.fit(train_users['country_destination'])"
   ]
  },
  {
   "cell_type": "code",
   "execution_count": 28,
   "metadata": {},
   "outputs": [],
   "source": [
    "# функция рассчета веса каждого класса в векторе y\n",
    "# возьмем веса классов в обратной пропорции от количества объектов каждого класса в выборке\n",
    "def get_class_weights(labels_s, num_classes):\n",
    "    lbs, cnts = np.unique(labels_s, return_counts=True)\n",
    "    weights = [0]*len(num_classes)    \n",
    "    for l, c in zip(lbs, cnts):\n",
    "        weights[l] = 1-c/labels_s.shape[0]\n",
    "    return weights"
   ]
  },
  {
   "cell_type": "code",
   "execution_count": 29,
   "metadata": {},
   "outputs": [
    {
     "name": "stderr",
     "output_type": "stream",
     "text": [
      "C:\\ProgramData\\Anaconda3\\lib\\site-packages\\ipykernel_launcher.py:3: RuntimeWarning: invalid value encountered in greater\n",
      "  This is separate from the ipykernel package so we can avoid doing imports until\n",
      "C:\\ProgramData\\Anaconda3\\lib\\site-packages\\ipykernel_launcher.py:5: RuntimeWarning: invalid value encountered in less\n",
      "  \"\"\"\n",
      "C:\\ProgramData\\Anaconda3\\lib\\site-packages\\ipykernel_launcher.py:7: RuntimeWarning: invalid value encountered in greater\n",
      "  import sys\n"
     ]
    }
   ],
   "source": [
    "# исключим из выборки колонки с датами, id и целевыю переменную\n",
    "X = train_users.drop(['id','date_account_created','timestamp_first_active',\n",
    "                   'date_first_booking','country_destination'], axis=1)\n",
    "y = le.transform(train_users['country_destination'])\n",
    "process_age(X)\n",
    "process_nans(X)"
   ]
  },
  {
   "cell_type": "code",
   "execution_count": 30,
   "metadata": {},
   "outputs": [],
   "source": [
    "X_train, X_test, y_train, y_test = train_test_split(X, y, test_size = 0.2, random_state = 42)"
   ]
  },
  {
   "cell_type": "code",
   "execution_count": 31,
   "metadata": {},
   "outputs": [],
   "source": [
    "# указываем модели в каких колонках находятся категориальные признаки\n",
    "cat_features_int = [0,2,3,4,5,6,7,8,9,10]"
   ]
  },
  {
   "cell_type": "code",
   "execution_count": 32,
   "metadata": {},
   "outputs": [
    {
     "data": {
      "text/plain": [
       "[0.9975111267275708,\n",
       " 0.9932478332162099,\n",
       " 0.9950046849379246,\n",
       " 0.9894706020145233,\n",
       " 0.9764991801358632,\n",
       " 0.9893007730147576,\n",
       " 0.9866889201218084,\n",
       " 0.4161396111501523,\n",
       " 0.9964453033497306,\n",
       " 0.9989927383462169,\n",
       " 0.7080639494026704,\n",
       " 0.952635277582572]"
      ]
     },
     "execution_count": 32,
     "metadata": {},
     "output_type": "execute_result"
    }
   ],
   "source": [
    "class_weights = get_class_weights(y_train, le.classes_)\n",
    "class_weights"
   ]
  },
  {
   "cell_type": "code",
   "execution_count": 33,
   "metadata": {},
   "outputs": [],
   "source": [
    "# для простого сравнения моделей используем метрику accuracy.\n",
    "# С помощью этой метрики мы можем сравнить построеные модели.\n",
    "# Также эта метрика позволяет обучать CatBoost на GPU.\n",
    "baseline_model = CatBoostClassifier(iterations = 500, \n",
    "                                    learning_rate = 0.2,\n",
    "                                    depth = 6, \n",
    "                                    loss_function = 'MultiClass',\n",
    "                                    eval_metric = 'Accuracy',\n",
    "                                    class_weights=class_weights,                                    \n",
    "                                    random_seed=42,\n",
    "                                    task_type = \"GPU\")"
   ]
  },
  {
   "cell_type": "code",
   "execution_count": 34,
   "metadata": {},
   "outputs": [],
   "source": [
    "train_pool = Pool(X_train, y_train, cat_features_int)\n",
    "test_pool = Pool(X_test, y_test, cat_features_int)"
   ]
  },
  {
   "cell_type": "code",
   "execution_count": 35,
   "metadata": {},
   "outputs": [
    {
     "data": {
      "text/plain": [
       "<catboost.core.CatBoostClassifier at 0x12fbf5df470>"
      ]
     },
     "execution_count": 35,
     "metadata": {},
     "output_type": "execute_result"
    }
   ],
   "source": [
    "baseline_model.fit(train_pool, use_best_model=True, eval_set=test_pool, verbose=False)"
   ]
  },
  {
   "cell_type": "code",
   "execution_count": 36,
   "metadata": {},
   "outputs": [
    {
     "data": {
      "text/plain": [
       "{'learn': {'Accuracy': 0.5561833440255792, 'MultiClass': -1.2910532790296279},\n",
       " 'validation_0': {'Accuracy': 0.553244790920247,\n",
       "  'MultiClass': -1.343829937648684}}"
      ]
     },
     "execution_count": 36,
     "metadata": {},
     "output_type": "execute_result"
    }
   ],
   "source": [
    "baseline_model.get_best_score()"
   ]
  },
  {
   "cell_type": "markdown",
   "metadata": {},
   "source": [
    "Точность первой модели 0.55 на несбалансированных классах. Посмотрим, какие предсказания модель выдает чаще всего:"
   ]
  },
  {
   "cell_type": "code",
   "execution_count": 56,
   "metadata": {},
   "outputs": [
    {
     "name": "stdout",
     "output_type": "stream",
     "text": [
      "['FR' 'NDF' 'US' 'other']\n",
      "[    3 24367 18279    42]\n"
     ]
    }
   ],
   "source": [
    "# Посмотрим, какие предсказания модель выдает чаще всего\n",
    "baseline_model_preds = baseline_model.predict(test_pool)\n",
    "classes, counts = np.unique(baseline_model_preds, return_counts=True)\n",
    "print(le.inverse_transform(classes.astype(int)))\n",
    "print(counts)"
   ]
  },
  {
   "cell_type": "markdown",
   "metadata": {},
   "source": [
    " Несмотря на использование весов классов модель подстроилась под статитстику датасета и почти всегда выдает два наибольших класса (7-NDF, 10-US)."
   ]
  },
  {
   "cell_type": "code",
   "execution_count": 38,
   "metadata": {},
   "outputs": [],
   "source": [
    "def print_feature_importances(model):    \n",
    "    for fn, fi in sorted(zip(model.feature_names_, model.feature_importances_), key=lambda x: x[1], reverse=True):\n",
    "        print(f'{fn}: {fi:.2f}')"
   ]
  },
  {
   "cell_type": "code",
   "execution_count": 39,
   "metadata": {},
   "outputs": [
    {
     "name": "stdout",
     "output_type": "stream",
     "text": [
      "age: 25.22\n",
      "gender: 10.17\n",
      "first_affiliate_tracked: 9.73\n",
      "first_browser: 9.41\n",
      "affiliate_channel: 9.21\n",
      "first_device_type: 8.92\n",
      "signup_flow: 8.22\n",
      "signup_method: 8.12\n",
      "affiliate_provider: 5.10\n",
      "language: 3.45\n",
      "signup_app: 2.46\n"
     ]
    }
   ],
   "source": [
    "print_feature_importances(baseline_model)"
   ]
  },
  {
   "cell_type": "code",
   "execution_count": null,
   "metadata": {},
   "outputs": [],
   "source": []
  },
  {
   "cell_type": "markdown",
   "metadata": {},
   "source": [
    "## Новые признаки"
   ]
  },
  {
   "cell_type": "markdown",
   "metadata": {},
   "source": [
    "Добавим больше информации в модель:\n",
    "- Сократим количество категорий first_browser, чтобы убрать зашумленность этого признака аномалиями типа Kindle Browser\n",
    "- Добавим возрастные группы, такие же, как в age_gender_bkts.csv\n",
    "- Добавим различные признаки, связанные с датами (день, месяц, год, сезон и т.д.)\n",
    "- Также добавим в качестве признаков разности между Datetime признаками."
   ]
  },
  {
   "cell_type": "code",
   "execution_count": 40,
   "metadata": {},
   "outputs": [
    {
     "data": {
      "text/plain": [
       "Chrome                  63845\n",
       "Safari                  45169\n",
       "Firefox                 33655\n",
       "-unknown-               27266\n",
       "IE                      21068\n",
       "Mobile Safari           19274\n",
       "Chrome Mobile            1270\n",
       "Android Browser           851\n",
       "AOL Explorer              245\n",
       "Opera                     188\n",
       "Silk                      124\n",
       "Chromium                   73\n",
       "BlackBerry Browser         53\n",
       "Maxthon                    46\n",
       "Apple Mail                 36\n",
       "IE Mobile                  36\n",
       "Sogou Explorer             33\n",
       "Mobile Firefox             30\n",
       "SiteKiosk                  24\n",
       "RockMelt                   24\n",
       "Iron                       17\n",
       "IceWeasel                  13\n",
       "Pale Moon                  12\n",
       "SeaMonkey                  11\n",
       "CometBird                  11\n",
       "Yandex.Browser             11\n",
       "Camino                      9\n",
       "TenFourFox                  8\n",
       "wOSBrowser                  6\n",
       "CoolNovo                    6\n",
       "Opera Mini                  4\n",
       "Avant Browser               4\n",
       "Mozilla                     3\n",
       "TheWorld Browser            2\n",
       "OmniWeb                     2\n",
       "Crazy Browser               2\n",
       "Opera Mobile                2\n",
       "SlimBrowser                 2\n",
       "Flock                       2\n",
       "Comodo Dragon               2\n",
       "Arora                       1\n",
       "Palm Pre web browser        1\n",
       "Outlook 2007                1\n",
       "Google Earth                1\n",
       "PS Vita browser             1\n",
       "IceDragon                   1\n",
       "Googlebot                   1\n",
       "Kindle Browser              1\n",
       "Epic                        1\n",
       "Conkeror                    1\n",
       "Stainless                   1\n",
       "NetNewsWire                 1\n",
       "Name: first_browser, dtype: int64"
      ]
     },
     "execution_count": 40,
     "metadata": {},
     "output_type": "execute_result"
    }
   ],
   "source": [
    "train_users['first_browser'].value_counts()"
   ]
  },
  {
   "cell_type": "code",
   "execution_count": 41,
   "metadata": {},
   "outputs": [],
   "source": [
    "def shrink_browser_cats(df):\n",
    "    popular_browsers = ['Chrome', 'Safari', 'Firefox', '-unknown-', 'IE', 'Mobile Safari']\n",
    "    \n",
    "    df.loc[~df['first_browser'].isin(popular_browsers), 'first_browser'] = 'other'"
   ]
  },
  {
   "cell_type": "markdown",
   "metadata": {},
   "source": [
    "Добавим признак возрастной группы."
   ]
  },
  {
   "cell_type": "code",
   "execution_count": 42,
   "metadata": {},
   "outputs": [],
   "source": [
    "def get_age_group_value(age, age_group):\n",
    "    age_group_val = 20\n",
    "    for i in range(len(age_group)):\n",
    "        if age < age_group[i]:\n",
    "            age_group_val = i \n",
    "            break\n",
    "    return age_group_val\n",
    "\n",
    "\n",
    "def add_age_groups(df):\n",
    "    age_group =  [0, 5, 10, 15, 20, 25, 30, 35, 40, 45, 50, 55, 60, 65, 70, 75, 80, 85, 90, 100]\n",
    "    df['age_group'] = df['age'].apply(get_age_group_value, args=(age_group,))"
   ]
  },
  {
   "cell_type": "code",
   "execution_count": 43,
   "metadata": {},
   "outputs": [],
   "source": [
    "# сгенерируем признаки, связанные датами\n",
    "Y = 2000\n",
    "seasons = [(0, (date(Y,  1,  1),  date(Y,  3, 20))),  #'зима'\n",
    "           (1, (date(Y,  3, 21),  date(Y,  6, 20))),  #'весна'\n",
    "           (2, (date(Y,  6, 21),  date(Y,  9, 22))),  #'лето'\n",
    "           (3, (date(Y,  9, 23),  date(Y, 12, 20))),  #'осень'\n",
    "           (0, (date(Y, 12, 21),  date(Y, 12, 31)))]  #'зима'\n",
    "\n",
    "def get_season(dt):\n",
    "    dt = dt.date()\n",
    "    dt = dt.replace(year=Y)\n",
    "    return next(season for season, (start, end) in seasons\n",
    "                if start <= dt <= end)\n",
    "\n",
    "def process_date_features(df):\n",
    "    \n",
    "    df['date_account_created'] = pd.to_datetime(df['date_account_created'])\n",
    "    df['timestamp_first_active'] = pd.to_datetime((df['timestamp_first_active']), format='%Y%m%d%H%M%S')\n",
    "    df['date_first_booking'] = pd.to_datetime(df['date_first_booking'])\n",
    "    \n",
    "    dac_features = [[x.day, x.month, x.year, x.dayofweek, x.dayofyear, x.weekofyear] \n",
    "                for x in df['date_account_created']]\n",
    "    dac_df = pd.DataFrame(data=dac_features, \n",
    "                        columns=['dac_d','dac_m','dac_y','dac_wd','dac_yd','dac_yw'],\n",
    "                        index=df.index)\n",
    "    \n",
    "    tfa_features = [[x.day, x.month, x.year, x.dayofweek, x.dayofyear, x.weekofyear] \n",
    "                for x in df['timestamp_first_active']]\n",
    "    tfa_df = pd.DataFrame(data=tfa_features, \n",
    "                        columns=['tfa_d','tfa_m','tfa_y','tfa_wd','tfa_yd','tfa_yw'],\n",
    "                        index=df.index)\n",
    "        \n",
    "    df['dac_tfa_secs'] = np.array([np.log(1+abs(((dac-tfa)//10**9).astype(int)))\n",
    "                                   for dac, tfa in df[['date_account_created','timestamp_first_active']].values])\n",
    "    df['dac_tfa_sign'] = np.array([np.sign((dac-tfa).astype(int))\n",
    "                                   for dac, tfa in df[['date_account_created','timestamp_first_active']].values])\n",
    "\n",
    "    df['season_dac'] = np.array([get_season(dt) for dt in df['date_account_created']])\n",
    "    df['season_tfa'] = np.array([get_season(dt) for dt in df['timestamp_first_active']])\n",
    "    \n",
    "    return pd.concat([df, dac_df, tfa_df], axis=1)"
   ]
  },
  {
   "cell_type": "code",
   "execution_count": null,
   "metadata": {},
   "outputs": [],
   "source": []
  },
  {
   "cell_type": "code",
   "execution_count": null,
   "metadata": {},
   "outputs": [],
   "source": []
  },
  {
   "cell_type": "markdown",
   "metadata": {},
   "source": [
    "### Добавим новые признаки в выборку и обучим на них модель"
   ]
  },
  {
   "cell_type": "code",
   "execution_count": 44,
   "metadata": {},
   "outputs": [],
   "source": [
    "def print_column_names(df):\n",
    "    for i, name in enumerate(df.columns):\n",
    "        print(f'{i:2d} : {name}')"
   ]
  },
  {
   "cell_type": "code",
   "execution_count": 45,
   "metadata": {},
   "outputs": [
    {
     "name": "stderr",
     "output_type": "stream",
     "text": [
      "C:\\ProgramData\\Anaconda3\\lib\\site-packages\\ipykernel_launcher.py:3: RuntimeWarning: invalid value encountered in greater\n",
      "  This is separate from the ipykernel package so we can avoid doing imports until\n",
      "C:\\ProgramData\\Anaconda3\\lib\\site-packages\\ipykernel_launcher.py:5: RuntimeWarning: invalid value encountered in less\n",
      "  \"\"\"\n",
      "C:\\ProgramData\\Anaconda3\\lib\\site-packages\\ipykernel_launcher.py:7: RuntimeWarning: invalid value encountered in greater\n",
      "  import sys\n"
     ]
    }
   ],
   "source": [
    "tmp_df = train_users.copy()\n",
    "process_nans(tmp_df)\n",
    "process_age(tmp_df)\n",
    "shrink_browser_cats(tmp_df)\n",
    "add_age_groups(tmp_df)\n",
    "tmp_df = process_date_features(tmp_df)"
   ]
  },
  {
   "cell_type": "code",
   "execution_count": 46,
   "metadata": {},
   "outputs": [],
   "source": [
    "X = tmp_df.drop(['id', 'date_account_created', 'timestamp_first_active',\n",
    "                 'date_first_booking', 'country_destination'], axis=1)\n",
    "y = le.transform(tmp_df['country_destination'])"
   ]
  },
  {
   "cell_type": "code",
   "execution_count": 47,
   "metadata": {},
   "outputs": [
    {
     "name": "stdout",
     "output_type": "stream",
     "text": [
      " 0 : gender\n",
      " 1 : age\n",
      " 2 : signup_method\n",
      " 3 : signup_flow\n",
      " 4 : language\n",
      " 5 : affiliate_channel\n",
      " 6 : affiliate_provider\n",
      " 7 : first_affiliate_tracked\n",
      " 8 : signup_app\n",
      " 9 : first_device_type\n",
      "10 : first_browser\n",
      "11 : age_group\n",
      "12 : dac_tfa_secs\n",
      "13 : dac_tfa_sign\n",
      "14 : season_dac\n",
      "15 : season_tfa\n",
      "16 : dac_d\n",
      "17 : dac_m\n",
      "18 : dac_y\n",
      "19 : dac_wd\n",
      "20 : dac_yd\n",
      "21 : dac_yw\n",
      "22 : tfa_d\n",
      "23 : tfa_m\n",
      "24 : tfa_y\n",
      "25 : tfa_wd\n",
      "26 : tfa_yd\n",
      "27 : tfa_yw\n"
     ]
    }
   ],
   "source": [
    "# отобразим нумерацию признаков, чтобы правильно указать категориальные\n",
    "print_column_names(X)"
   ]
  },
  {
   "cell_type": "code",
   "execution_count": 48,
   "metadata": {},
   "outputs": [],
   "source": [
    "cat_features_int = [0,2,3,4,5,6,7,8,9,10,11,14,15,16,17,18,19,20,21,22,23,24,25,26,27]\n",
    "\n",
    "X_train, X_test, y_train, y_test = train_test_split(X, y, test_size = 0.2, random_state = 42)\n",
    "\n",
    "train_pool = Pool(X_train, y_train, cat_features_int)\n",
    "test_pool = Pool(X_test, y_test, cat_features_int)\n",
    "class_weights = get_class_weights(y_train, le.classes_)"
   ]
  },
  {
   "cell_type": "code",
   "execution_count": 49,
   "metadata": {},
   "outputs": [],
   "source": [
    "model_2 = CatBoostClassifier(iterations = 500, \n",
    "                             learning_rate = 0.2,\n",
    "                             depth = 8, \n",
    "                             loss_function = 'MultiClass',\n",
    "                             eval_metric = 'Accuracy',\n",
    "                             class_weights=class_weights,\n",
    "                             random_seed=42,\n",
    "                             task_type = \"GPU\")"
   ]
  },
  {
   "cell_type": "code",
   "execution_count": 50,
   "metadata": {
    "scrolled": true
   },
   "outputs": [
    {
     "data": {
      "text/plain": [
       "<catboost.core.CatBoostClassifier at 0x12fbe44f550>"
      ]
     },
     "execution_count": 50,
     "metadata": {},
     "output_type": "execute_result"
    }
   ],
   "source": [
    "model_2.fit(train_pool, use_best_model=True, eval_set=test_pool, verbose=False)"
   ]
  },
  {
   "cell_type": "code",
   "execution_count": 51,
   "metadata": {},
   "outputs": [
    {
     "data": {
      "text/plain": [
       "{'learn': {'Accuracy': 0.5971209377735236, 'MultiClass': -1.0652127965120073},\n",
       " 'validation_0': {'Accuracy': 0.5539233714401176,\n",
       "  'MultiClass': -1.338096188762701}}"
      ]
     },
     "execution_count": 51,
     "metadata": {},
     "output_type": "execute_result"
    }
   ],
   "source": [
    "model_2.get_best_score()"
   ]
  },
  {
   "cell_type": "code",
   "execution_count": 52,
   "metadata": {},
   "outputs": [
    {
     "name": "stdout",
     "output_type": "stream",
     "text": [
      "age_group: 10.06\n",
      "dac_tfa_secs: 8.47\n",
      "first_browser: 6.15\n",
      "age: 5.63\n",
      "tfa_yd: 5.56\n",
      "gender: 4.81\n",
      "first_affiliate_tracked: 4.71\n",
      "signup_method: 4.41\n",
      "dac_d: 4.39\n",
      "first_device_type: 4.13\n",
      "affiliate_channel: 3.93\n",
      "tfa_y: 3.87\n",
      "tfa_wd: 3.45\n",
      "tfa_d: 3.30\n",
      "tfa_m: 3.08\n",
      "signup_flow: 2.90\n",
      "tfa_yw: 2.86\n",
      "dac_yd: 2.55\n",
      "dac_wd: 2.53\n",
      "dac_yw: 2.28\n",
      "affiliate_provider: 2.25\n",
      "dac_m: 1.78\n",
      "dac_y: 1.77\n",
      "season_tfa: 1.29\n",
      "dac_tfa_sign: 1.26\n",
      "season_dac: 1.03\n",
      "signup_app: 0.82\n",
      "language: 0.76\n"
     ]
    }
   ],
   "source": [
    "print_feature_importances(model_2)"
   ]
  },
  {
   "cell_type": "code",
   "execution_count": 57,
   "metadata": {},
   "outputs": [
    {
     "name": "stdout",
     "output_type": "stream",
     "text": [
      "['NDF' 'NL' 'US' 'other']\n",
      "[24362     1 18321     7]\n"
     ]
    }
   ],
   "source": [
    "model_2_preds = model_2.predict(test_pool)\n",
    "classes, counts = np.unique(model_2_preds, return_counts=True)\n",
    "print(le.inverse_transform(classes.astype(int)))\n",
    "print(counts)"
   ]
  },
  {
   "cell_type": "markdown",
   "metadata": {},
   "source": [
    "Как видим, с добавлением новых признаков модель по-прежнему выдает два самых популярных класса. Попробуем добавить признаки из сессий пользователя."
   ]
  },
  {
   "cell_type": "markdown",
   "metadata": {},
   "source": [
    "## Sessions"
   ]
  },
  {
   "cell_type": "code",
   "execution_count": 58,
   "metadata": {},
   "outputs": [
    {
     "name": "stdout",
     "output_type": "stream",
     "text": [
      "<class 'pandas.core.frame.DataFrame'>\n",
      "RangeIndex: 10567737 entries, 0 to 10567736\n",
      "Data columns (total 6 columns):\n",
      "user_id          object\n",
      "action           object\n",
      "action_type      object\n",
      "action_detail    object\n",
      "device_type      object\n",
      "secs_elapsed     float64\n",
      "dtypes: float64(1), object(5)\n",
      "memory usage: 483.8+ MB\n"
     ]
    }
   ],
   "source": [
    "sessions.info()"
   ]
  },
  {
   "cell_type": "code",
   "execution_count": 59,
   "metadata": {},
   "outputs": [
    {
     "data": {
      "text/plain": [
       "user_id            34496\n",
       "action             79626\n",
       "action_type      1126204\n",
       "action_detail    1126204\n",
       "device_type            0\n",
       "secs_elapsed      136031\n",
       "dtype: int64"
      ]
     },
     "execution_count": 59,
     "metadata": {},
     "output_type": "execute_result"
    }
   ],
   "source": [
    "sessions.isnull().sum()"
   ]
  },
  {
   "cell_type": "code",
   "execution_count": 60,
   "metadata": {},
   "outputs": [],
   "source": [
    "ses_df = sessions.copy()"
   ]
  },
  {
   "cell_type": "code",
   "execution_count": 61,
   "metadata": {},
   "outputs": [],
   "source": [
    "ses_df['id'] = ses_df['user_id']\n",
    "ses_df.drop('user_id', axis=1, inplace=True)"
   ]
  },
  {
   "cell_type": "code",
   "execution_count": 62,
   "metadata": {},
   "outputs": [],
   "source": [
    "# Заменим все пропуски в категориальных признаках на NAN, а в длительности сессии - на 0.\n",
    "def process_ses_nans(df):\n",
    "    for col in ['action','action_type','action_detail']:\n",
    "        df[col] = df[col].fillna('NAN')\n",
    "    df.loc[:, 'secs_elapsed'].fillna(0, inplace=True)"
   ]
  },
  {
   "cell_type": "code",
   "execution_count": 63,
   "metadata": {},
   "outputs": [],
   "source": [
    "process_ses_nans(ses_df)"
   ]
  },
  {
   "cell_type": "code",
   "execution_count": 64,
   "metadata": {},
   "outputs": [],
   "source": [
    "# отнесем все редко встречающиеся действия в категорию other\n",
    "def shrink_rare_actions(df):\n",
    "    act_freq = 100\n",
    "    action_counts = df['action'].value_counts()\n",
    "    rare_actions = action_counts[action_counts < act_freq].index.tolist()\n",
    "    df.loc[df['action'].isin(rare_actions), 'action'] = 'other'\n",
    "    \n",
    "    action_detail_counts = df['action_detail'].value_counts()\n",
    "    rare_action_details = action_detail_counts[action_detail_counts < act_freq].index.tolist()\n",
    "    df.loc[df['action_detail'].isin(rare_action_details), 'action_detail'] = 'other'"
   ]
  },
  {
   "cell_type": "code",
   "execution_count": 65,
   "metadata": {},
   "outputs": [],
   "source": [
    "shrink_rare_actions(ses_df)"
   ]
  },
  {
   "cell_type": "markdown",
   "metadata": {},
   "source": [
    "Собираем статистику по сессиям."
   ]
  },
  {
   "cell_type": "code",
   "execution_count": 66,
   "metadata": {},
   "outputs": [],
   "source": [
    "# пронумерованные списки всех значений категориальных переменных\n",
    "action_list = ses_df['action'].value_counts().argsort()\n",
    "action_detail_list = ses_df['action_detail'].value_counts().argsort()\n",
    "action_type_list = ses_df['action_type'].value_counts().argsort()\n",
    "device_type_list = ses_df['device_type'].value_counts().argsort()\n",
    "\n",
    "feature_cats = {'action' : action_list,\n",
    "                'action_detail' : action_detail_list,\n",
    "                'action_type' : action_type_list,\n",
    "                'device_type' : device_type_list}"
   ]
  },
  {
   "cell_type": "code",
   "execution_count": 67,
   "metadata": {},
   "outputs": [],
   "source": [
    "# группируем сессии по пользователям\n",
    "grouped_sessions = ses_df.groupby(['id'])"
   ]
  },
  {
   "cell_type": "code",
   "execution_count": 68,
   "metadata": {},
   "outputs": [],
   "source": [
    "def get_group_counts(group, feature):\n",
    "    \n",
    "    counts = [0]*len(feature_cats[feature])    \n",
    "    vc = group[1][feature].value_counts()\n",
    "    for item, count in vc.items():\n",
    "        # записываем количество категорий признака feature в позицию,\n",
    "        # соответствующую номеру этой категории в списке action_list или др.\n",
    "        counts[feature_cats[feature][item]] = count\n",
    "    # рассчитываем статистики (количество, среднее, std) и добавляем их в конец списка\n",
    "    counts += [vc.shape[0], vc.mean(), vc.std()]\n",
    "    # возвращаем список, в котором содержится количество вхождений каждой категории выбранного признака\n",
    "    # во всех сессиях данного пользователя + статистики по признаку.\n",
    "    return counts"
   ]
  },
  {
   "cell_type": "code",
   "execution_count": 69,
   "metadata": {},
   "outputs": [],
   "source": [
    "# имена колонок будущего датафрейма\n",
    "col_names = ['ses_count']\n",
    "for feat, vc_list in feature_cats.items():\n",
    "    for cat_item in vc_list.index:\n",
    "        col_names.append(f'{feat}_{cat_item}_c')\n",
    "    col_names += [f'{feat}_count', f'{feat}_mean', f'{feat}_std']\n",
    "col_names += ['se_log_sum', 'se_log_mean', 'se_log_std', 'se_log_median', 'se_mean_by_session']"
   ]
  },
  {
   "cell_type": "code",
   "execution_count": 70,
   "metadata": {},
   "outputs": [
    {
     "name": "stdout",
     "output_type": "stream",
     "text": [
      "Wall time: 22min 1s\n"
     ]
    }
   ],
   "source": [
    "%%time\n",
    "samples = []\n",
    "ids = []\n",
    "\n",
    "for g in grouped_sessions:\n",
    "    id = g[0]\n",
    "    ids.append(id)\n",
    "    # строка из id пользователя, количества сессий и статистик по всем его сессиям\n",
    "    sample = [g[1].shape[0]]\n",
    "    \n",
    "    # статистики по значениям каждого категориального признака\n",
    "    for feature in feature_cats.keys():\n",
    "        sample += get_group_counts(g, feature)\n",
    "        \n",
    "    # статистики по длительности сессий\n",
    "    secs_elapsed = g[1]['secs_elapsed']\n",
    "    if g[1].shape[0] > 0:\n",
    "        sample += [np.log(1+secs_elapsed.sum()),\n",
    "                   np.log(1+secs_elapsed.mean()),\n",
    "                   np.log(1+secs_elapsed.std()),\n",
    "                   np.log(1+secs_elapsed.median()),\n",
    "                   np.log(1+secs_elapsed.sum())/g[1].shape[0]]\n",
    "    else:\n",
    "        sample += [0, 0, 0, 0, 0]\n",
    "    samples.append(sample)"
   ]
  },
  {
   "cell_type": "code",
   "execution_count": 71,
   "metadata": {},
   "outputs": [],
   "source": [
    "sessions_stats = pd.DataFrame(data = np.array(samples, dtype=np.float64),\n",
    "                              columns = col_names,\n",
    "                              index=ids)\n",
    "\n",
    "sessions_stats.index.name = 'id'\n",
    "sessions_stats.fillna(0, inplace=True)"
   ]
  },
  {
   "cell_type": "code",
   "execution_count": 72,
   "metadata": {},
   "outputs": [
    {
     "data": {
      "text/html": [
       "<div>\n",
       "<style scoped>\n",
       "    .dataframe tbody tr th:only-of-type {\n",
       "        vertical-align: middle;\n",
       "    }\n",
       "\n",
       "    .dataframe tbody tr th {\n",
       "        vertical-align: top;\n",
       "    }\n",
       "\n",
       "    .dataframe thead th {\n",
       "        text-align: right;\n",
       "    }\n",
       "</style>\n",
       "<table border=\"1\" class=\"dataframe\">\n",
       "  <thead>\n",
       "    <tr style=\"text-align: right;\">\n",
       "      <th></th>\n",
       "      <th>ses_count</th>\n",
       "      <th>action_show_c</th>\n",
       "      <th>action_index_c</th>\n",
       "      <th>action_search_results_c</th>\n",
       "      <th>action_personalize_c</th>\n",
       "      <th>action_search_c</th>\n",
       "      <th>action_ajax_refresh_subtotal_c</th>\n",
       "      <th>action_update_c</th>\n",
       "      <th>action_similar_listings_c</th>\n",
       "      <th>action_social_connections_c</th>\n",
       "      <th>...</th>\n",
       "      <th>device_type_Blackberry_c</th>\n",
       "      <th>device_type_Opera Phone_c</th>\n",
       "      <th>device_type_count</th>\n",
       "      <th>device_type_mean</th>\n",
       "      <th>device_type_std</th>\n",
       "      <th>se_log_sum</th>\n",
       "      <th>se_log_mean</th>\n",
       "      <th>se_log_std</th>\n",
       "      <th>se_log_median</th>\n",
       "      <th>se_mean_by_session</th>\n",
       "    </tr>\n",
       "    <tr>\n",
       "      <th>id</th>\n",
       "      <th></th>\n",
       "      <th></th>\n",
       "      <th></th>\n",
       "      <th></th>\n",
       "      <th></th>\n",
       "      <th></th>\n",
       "      <th></th>\n",
       "      <th></th>\n",
       "      <th></th>\n",
       "      <th></th>\n",
       "      <th></th>\n",
       "      <th></th>\n",
       "      <th></th>\n",
       "      <th></th>\n",
       "      <th></th>\n",
       "      <th></th>\n",
       "      <th></th>\n",
       "      <th></th>\n",
       "      <th></th>\n",
       "      <th></th>\n",
       "      <th></th>\n",
       "    </tr>\n",
       "  </thead>\n",
       "  <tbody>\n",
       "    <tr>\n",
       "      <th>00023iyk9l</th>\n",
       "      <td>40.0</td>\n",
       "      <td>0.0</td>\n",
       "      <td>0.0</td>\n",
       "      <td>0.0</td>\n",
       "      <td>0.0</td>\n",
       "      <td>0.0</td>\n",
       "      <td>0.0</td>\n",
       "      <td>0.0</td>\n",
       "      <td>0.0</td>\n",
       "      <td>0.0</td>\n",
       "      <td>...</td>\n",
       "      <td>0.0</td>\n",
       "      <td>36.0</td>\n",
       "      <td>2.0</td>\n",
       "      <td>20.0</td>\n",
       "      <td>22.627417</td>\n",
       "      <td>13.673828</td>\n",
       "      <td>9.984994</td>\n",
       "      <td>11.419946</td>\n",
       "      <td>6.738152</td>\n",
       "      <td>0.341846</td>\n",
       "    </tr>\n",
       "    <tr>\n",
       "      <th>0010k6l0om</th>\n",
       "      <td>63.0</td>\n",
       "      <td>0.0</td>\n",
       "      <td>0.0</td>\n",
       "      <td>0.0</td>\n",
       "      <td>0.0</td>\n",
       "      <td>0.0</td>\n",
       "      <td>0.0</td>\n",
       "      <td>0.0</td>\n",
       "      <td>0.0</td>\n",
       "      <td>0.0</td>\n",
       "      <td>...</td>\n",
       "      <td>0.0</td>\n",
       "      <td>63.0</td>\n",
       "      <td>1.0</td>\n",
       "      <td>63.0</td>\n",
       "      <td>0.000000</td>\n",
       "      <td>13.282003</td>\n",
       "      <td>9.138974</td>\n",
       "      <td>10.025681</td>\n",
       "      <td>6.742881</td>\n",
       "      <td>0.210825</td>\n",
       "    </tr>\n",
       "    <tr>\n",
       "      <th>001wyh0pz8</th>\n",
       "      <td>90.0</td>\n",
       "      <td>0.0</td>\n",
       "      <td>0.0</td>\n",
       "      <td>0.0</td>\n",
       "      <td>0.0</td>\n",
       "      <td>0.0</td>\n",
       "      <td>0.0</td>\n",
       "      <td>0.0</td>\n",
       "      <td>0.0</td>\n",
       "      <td>0.0</td>\n",
       "      <td>...</td>\n",
       "      <td>0.0</td>\n",
       "      <td>0.0</td>\n",
       "      <td>1.0</td>\n",
       "      <td>90.0</td>\n",
       "      <td>0.000000</td>\n",
       "      <td>12.553082</td>\n",
       "      <td>8.053587</td>\n",
       "      <td>8.786033</td>\n",
       "      <td>7.007601</td>\n",
       "      <td>0.139479</td>\n",
       "    </tr>\n",
       "    <tr>\n",
       "      <th>0028jgx1x1</th>\n",
       "      <td>31.0</td>\n",
       "      <td>0.0</td>\n",
       "      <td>0.0</td>\n",
       "      <td>0.0</td>\n",
       "      <td>0.0</td>\n",
       "      <td>0.0</td>\n",
       "      <td>0.0</td>\n",
       "      <td>0.0</td>\n",
       "      <td>0.0</td>\n",
       "      <td>0.0</td>\n",
       "      <td>...</td>\n",
       "      <td>0.0</td>\n",
       "      <td>0.0</td>\n",
       "      <td>2.0</td>\n",
       "      <td>15.5</td>\n",
       "      <td>20.506097</td>\n",
       "      <td>12.601524</td>\n",
       "      <td>9.167638</td>\n",
       "      <td>9.786528</td>\n",
       "      <td>6.194405</td>\n",
       "      <td>0.406501</td>\n",
       "    </tr>\n",
       "    <tr>\n",
       "      <th>002qnbzfs5</th>\n",
       "      <td>789.0</td>\n",
       "      <td>0.0</td>\n",
       "      <td>0.0</td>\n",
       "      <td>0.0</td>\n",
       "      <td>0.0</td>\n",
       "      <td>0.0</td>\n",
       "      <td>0.0</td>\n",
       "      <td>0.0</td>\n",
       "      <td>0.0</td>\n",
       "      <td>0.0</td>\n",
       "      <td>...</td>\n",
       "      <td>0.0</td>\n",
       "      <td>0.0</td>\n",
       "      <td>2.0</td>\n",
       "      <td>394.5</td>\n",
       "      <td>538.108260</td>\n",
       "      <td>15.685323</td>\n",
       "      <td>9.014678</td>\n",
       "      <td>10.969499</td>\n",
       "      <td>6.212606</td>\n",
       "      <td>0.019880</td>\n",
       "    </tr>\n",
       "  </tbody>\n",
       "</table>\n",
       "<p>5 rows × 406 columns</p>\n",
       "</div>"
      ],
      "text/plain": [
       "            ses_count  action_show_c  action_index_c  action_search_results_c  \\\n",
       "id                                                                              \n",
       "00023iyk9l       40.0            0.0             0.0                      0.0   \n",
       "0010k6l0om       63.0            0.0             0.0                      0.0   \n",
       "001wyh0pz8       90.0            0.0             0.0                      0.0   \n",
       "0028jgx1x1       31.0            0.0             0.0                      0.0   \n",
       "002qnbzfs5      789.0            0.0             0.0                      0.0   \n",
       "\n",
       "            action_personalize_c  action_search_c  \\\n",
       "id                                                  \n",
       "00023iyk9l                   0.0              0.0   \n",
       "0010k6l0om                   0.0              0.0   \n",
       "001wyh0pz8                   0.0              0.0   \n",
       "0028jgx1x1                   0.0              0.0   \n",
       "002qnbzfs5                   0.0              0.0   \n",
       "\n",
       "            action_ajax_refresh_subtotal_c  action_update_c  \\\n",
       "id                                                            \n",
       "00023iyk9l                             0.0              0.0   \n",
       "0010k6l0om                             0.0              0.0   \n",
       "001wyh0pz8                             0.0              0.0   \n",
       "0028jgx1x1                             0.0              0.0   \n",
       "002qnbzfs5                             0.0              0.0   \n",
       "\n",
       "            action_similar_listings_c  action_social_connections_c  ...  \\\n",
       "id                                                                  ...   \n",
       "00023iyk9l                        0.0                          0.0  ...   \n",
       "0010k6l0om                        0.0                          0.0  ...   \n",
       "001wyh0pz8                        0.0                          0.0  ...   \n",
       "0028jgx1x1                        0.0                          0.0  ...   \n",
       "002qnbzfs5                        0.0                          0.0  ...   \n",
       "\n",
       "            device_type_Blackberry_c  device_type_Opera Phone_c  \\\n",
       "id                                                                \n",
       "00023iyk9l                       0.0                       36.0   \n",
       "0010k6l0om                       0.0                       63.0   \n",
       "001wyh0pz8                       0.0                        0.0   \n",
       "0028jgx1x1                       0.0                        0.0   \n",
       "002qnbzfs5                       0.0                        0.0   \n",
       "\n",
       "            device_type_count  device_type_mean  device_type_std  se_log_sum  \\\n",
       "id                                                                             \n",
       "00023iyk9l                2.0              20.0        22.627417   13.673828   \n",
       "0010k6l0om                1.0              63.0         0.000000   13.282003   \n",
       "001wyh0pz8                1.0              90.0         0.000000   12.553082   \n",
       "0028jgx1x1                2.0              15.5        20.506097   12.601524   \n",
       "002qnbzfs5                2.0             394.5       538.108260   15.685323   \n",
       "\n",
       "            se_log_mean  se_log_std  se_log_median  se_mean_by_session  \n",
       "id                                                                      \n",
       "00023iyk9l     9.984994   11.419946       6.738152            0.341846  \n",
       "0010k6l0om     9.138974   10.025681       6.742881            0.210825  \n",
       "001wyh0pz8     8.053587    8.786033       7.007601            0.139479  \n",
       "0028jgx1x1     9.167638    9.786528       6.194405            0.406501  \n",
       "002qnbzfs5     9.014678   10.969499       6.212606            0.019880  \n",
       "\n",
       "[5 rows x 406 columns]"
      ]
     },
     "execution_count": 72,
     "metadata": {},
     "output_type": "execute_result"
    }
   ],
   "source": [
    "sessions_stats.head()"
   ]
  },
  {
   "cell_type": "code",
   "execution_count": null,
   "metadata": {},
   "outputs": [],
   "source": [
    "sessions_stats.to_csv('sessions_stats.csv')"
   ]
  },
  {
   "cell_type": "code",
   "execution_count": null,
   "metadata": {},
   "outputs": [],
   "source": [
    "# sessions_stats = pd.read_csv('sessions_stats.csv', index_col=0)"
   ]
  },
  {
   "cell_type": "code",
   "execution_count": null,
   "metadata": {},
   "outputs": [],
   "source": []
  },
  {
   "cell_type": "code",
   "execution_count": null,
   "metadata": {},
   "outputs": [],
   "source": []
  },
  {
   "cell_type": "markdown",
   "metadata": {},
   "source": [
    "Получилось 406 числовых признаков. Посмотрим, как их добавление повлияет на точность модели."
   ]
  },
  {
   "cell_type": "code",
   "execution_count": 73,
   "metadata": {},
   "outputs": [
    {
     "name": "stderr",
     "output_type": "stream",
     "text": [
      "C:\\ProgramData\\Anaconda3\\lib\\site-packages\\ipykernel_launcher.py:3: RuntimeWarning: invalid value encountered in greater\n",
      "  This is separate from the ipykernel package so we can avoid doing imports until\n",
      "C:\\ProgramData\\Anaconda3\\lib\\site-packages\\ipykernel_launcher.py:5: RuntimeWarning: invalid value encountered in less\n",
      "  \"\"\"\n",
      "C:\\ProgramData\\Anaconda3\\lib\\site-packages\\ipykernel_launcher.py:7: RuntimeWarning: invalid value encountered in greater\n",
      "  import sys\n"
     ]
    }
   ],
   "source": [
    "tmp_df = train_users.copy()\n",
    "process_nans(tmp_df)\n",
    "process_age(tmp_df)\n",
    "shrink_browser_cats(tmp_df)\n",
    "add_age_groups(tmp_df)\n",
    "tmp_df = process_date_features(tmp_df)"
   ]
  },
  {
   "cell_type": "code",
   "execution_count": 74,
   "metadata": {},
   "outputs": [],
   "source": [
    "X = tmp_df.join(sessions_stats, on='id', how='left').fillna(-2)\n",
    "X = X.drop(['id', 'date_account_created', 'timestamp_first_active',\n",
    "                 'date_first_booking', 'country_destination'], axis=1)\n",
    "y = le.transform(tmp_df['country_destination'])"
   ]
  },
  {
   "cell_type": "code",
   "execution_count": 75,
   "metadata": {},
   "outputs": [],
   "source": [
    "cat_features_int = [0,2,3,4,5,6,7,8,9,10,11,14,15,16,17,18,19,20,21,22,23,24,25,26,27]\n",
    "X_train, X_test, y_train, y_test = train_test_split(X, y, test_size = 0.2, random_state = 42)\n",
    "train_pool = Pool(X_train, y_train, cat_features_int)\n",
    "test_pool = Pool(X_test, y_test, cat_features_int)\n",
    "class_weights = get_class_weights(y_train, le.classes_)"
   ]
  },
  {
   "cell_type": "code",
   "execution_count": 76,
   "metadata": {},
   "outputs": [],
   "source": [
    "model_3 = CatBoostClassifier(iterations = 500, \n",
    "                             learning_rate = 0.2,\n",
    "                             depth = 8, \n",
    "                             loss_function = 'MultiClass',\n",
    "                             eval_metric = 'Accuracy',\n",
    "                             class_weights=class_weights,\n",
    "                             random_seed=42,\n",
    "                             task_type = \"GPU\")"
   ]
  },
  {
   "cell_type": "code",
   "execution_count": 77,
   "metadata": {
    "scrolled": true
   },
   "outputs": [
    {
     "data": {
      "text/plain": [
       "<catboost.core.CatBoostClassifier at 0x12fbf5c0b70>"
      ]
     },
     "execution_count": 77,
     "metadata": {},
     "output_type": "execute_result"
    }
   ],
   "source": [
    "model_3.fit(train_pool, use_best_model=True, eval_set=test_pool, verbose=False)"
   ]
  },
  {
   "cell_type": "code",
   "execution_count": 78,
   "metadata": {},
   "outputs": [
    {
     "data": {
      "text/plain": [
       "{'learn': {'Accuracy': 0.5929415531586993, 'MultiClass': -1.1516457489849325},\n",
       " 'validation_0': {'Accuracy': 0.5675595993059506,\n",
       "  'MultiClass': -1.3083330670663633}}"
      ]
     },
     "execution_count": 78,
     "metadata": {},
     "output_type": "execute_result"
    }
   ],
   "source": [
    "model_3.get_best_score()"
   ]
  },
  {
   "cell_type": "code",
   "execution_count": 79,
   "metadata": {},
   "outputs": [
    {
     "name": "stdout",
     "output_type": "stream",
     "text": [
      "['FR' 'IT' 'NDF' 'US' 'other']\n",
      "[   10     2 24383 18265    31]\n"
     ]
    }
   ],
   "source": [
    "model_3_preds = model_3.predict(test_pool)\n",
    "classes, counts = np.unique(model_3_preds, return_counts=True)\n",
    "print(le.inverse_transform(classes.astype(int)))\n",
    "print(counts)"
   ]
  },
  {
   "cell_type": "markdown",
   "metadata": {},
   "source": [
    "Точность модели немного улучшилась, модель предсказывает уже не только самые большие классы. Посмотрим, какой результат будет на Kaggle."
   ]
  },
  {
   "cell_type": "code",
   "execution_count": null,
   "metadata": {},
   "outputs": [],
   "source": []
  },
  {
   "cell_type": "code",
   "execution_count": 80,
   "metadata": {},
   "outputs": [
    {
     "name": "stderr",
     "output_type": "stream",
     "text": [
      "C:\\ProgramData\\Anaconda3\\lib\\site-packages\\ipykernel_launcher.py:3: RuntimeWarning: invalid value encountered in greater\n",
      "  This is separate from the ipykernel package so we can avoid doing imports until\n",
      "C:\\ProgramData\\Anaconda3\\lib\\site-packages\\ipykernel_launcher.py:5: RuntimeWarning: invalid value encountered in less\n",
      "  \"\"\"\n",
      "C:\\ProgramData\\Anaconda3\\lib\\site-packages\\ipykernel_launcher.py:7: RuntimeWarning: invalid value encountered in greater\n",
      "  import sys\n"
     ]
    }
   ],
   "source": [
    "submission_df = test_users.copy()\n",
    "process_nans(submission_df)\n",
    "process_age(submission_df)\n",
    "shrink_browser_cats(submission_df)\n",
    "add_age_groups(submission_df)\n",
    "submission_df = process_date_features(submission_df)"
   ]
  },
  {
   "cell_type": "code",
   "execution_count": 81,
   "metadata": {},
   "outputs": [],
   "source": [
    "X_submission = submission_df.join(sessions_stats, on='id', how='left').fillna(-2)\n",
    "X_submission = X_submission.drop(['id', 'date_account_created', 'timestamp_first_active',\n",
    "                 'date_first_booking'], axis=1)"
   ]
  },
  {
   "cell_type": "code",
   "execution_count": 82,
   "metadata": {},
   "outputs": [],
   "source": [
    "submission_preds = model_3.predict_proba(X_submission)"
   ]
  },
  {
   "cell_type": "code",
   "execution_count": 83,
   "metadata": {},
   "outputs": [],
   "source": [
    "ids = []\n",
    "c = []\n",
    "for i, id in enumerate(test_users['id']):\n",
    "    ids.extend([id]*5)\n",
    "    c.extend(le.inverse_transform(submission_preds[i].argsort()[::-1][:5].tolist()))\n",
    "assert (len(ids) == len(c))"
   ]
  },
  {
   "cell_type": "code",
   "execution_count": 84,
   "metadata": {},
   "outputs": [],
   "source": [
    "pd.DataFrame(np.vstack([ids, c]).T, columns=['id','country']).to_csv('submission.csv', index=False)"
   ]
  },
  {
   "cell_type": "markdown",
   "metadata": {},
   "source": [
    "Модель показала довольно высокий результат на Kaggle: 0.87359. Видимо, балансировка классов дает не очень хорошую точность на несбалансированном датасете, но помогает сохранить разноообразие предсказаний модели. Поэтому при использовании метрики NDCG5, где у нас есть 5 попыток угадать правильный класс, получается достаточно хороший результат."
   ]
  }
 ],
 "metadata": {
  "kernelspec": {
   "display_name": "Python 3",
   "language": "python",
   "name": "python3"
  },
  "language_info": {
   "codemirror_mode": {
    "name": "ipython",
    "version": 3
   },
   "file_extension": ".py",
   "mimetype": "text/x-python",
   "name": "python",
   "nbconvert_exporter": "python",
   "pygments_lexer": "ipython3",
   "version": "3.6.4"
  }
 },
 "nbformat": 4,
 "nbformat_minor": 2
}
